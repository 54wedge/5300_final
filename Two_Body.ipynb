{
 "cells": [
  {
   "cell_type": "code",
   "execution_count": 1,
   "id": "alien-utility",
   "metadata": {},
   "outputs": [],
   "source": [
    "%matplotlib inline"
   ]
  },
  {
   "cell_type": "code",
   "execution_count": 2,
   "id": "loose-facility",
   "metadata": {},
   "outputs": [],
   "source": [
    "import numpy as np\n",
    "import matplotlib.pyplot as plt\n",
    "from scipy.integrate import solve_ivp"
   ]
  },
  {
   "cell_type": "markdown",
   "id": "touched-blond",
   "metadata": {},
   "source": [
    "## Two body gravitational orbit\n",
    "Two bodies are forming a system with the only gravitational force. The distance between m1 and m2 is\n",
    "\\\\[\n",
    "r=\\sqrt{(x_1+x_2)^2+(y_1+y_2)^2}\n",
    "\\\\]\n",
    "The gravitational force between m1 and m2 is\n",
    "\\\\[\n",
    "F=\\frac{Gm_1m_2}{r^2}\n",
    "\\\\]\n",
    "And the newton's second law $F=m\\ddot x$ gives\n",
    "\\\\[\n",
    "\\ddot x_1=\\frac{Gm_2}{r^2}\\frac{x_2-x_1}{r}\\\\\n",
    "\\ddot x_2=-\\frac{Gm_1}{r^2}\\frac{x_2-x_1}{r}\\\\\n",
    "\\ddot y_1=\\frac{Gm_1}{r^2}\\frac{y_2-y_1}{r}\\\\\n",
    "\\ddot y_2=-\\frac{Gm_2}{r^2}\\frac{y_2-y_1}{r}\n",
    "\\\\]"
   ]
  },
  {
   "cell_type": "code",
   "execution_count": 3,
   "id": "south-sleep",
   "metadata": {},
   "outputs": [],
   "source": [
    "class Two_Body:    \n",
    "    def __init__(self, G=1., m1=1., m2=1.):\n",
    "        self.G = G\n",
    "        self.m1 = m1\n",
    "        self.m2 = m2\n",
    "    \n",
    "    def dy_dt(self, t, y):\n",
    "        \"\"\"\n",
    "        This function returns the right-hand side of the diffeq: \n",
    "        [dx1/dt d^2x1/dt^2 \n",
    "         dx2/dt d^2x2/dt^2\n",
    "         dy1/dt d^2y1/dt^2\n",
    "         dy2/dt d^2y2/dt^2]\n",
    "        \n",
    "        Parameters\n",
    "        ----------\n",
    "        t : float\n",
    "            time \n",
    "        y : float\n",
    "            8-component vector with y[0] = x1, y[1] = dx1/dt\n",
    "                                    y[2] = x2, y[3] = dx2/dt\n",
    "                                    y[4] = y1, y[5] = dy1/dt\n",
    "                                    y[6] = y2, y[7] = dy2/dt\n",
    "        \"\"\"\n",
    "        x1, x1_dot, x2, x2_dot, y1, y1_dot, y2, y2_dot = y\n",
    "        r = np.sqrt((y[0]-y[2])**2+(y[4]-y[6])**2)\n",
    "        \n",
    "        return [y[1],\n",
    "                (self.G*self.m2)/r**2 * (y[2]-y[0])/r,\n",
    "                y[3],\n",
    "                -(self.G*self.m1)/r**2 * (y[2]-y[0])/r,\n",
    "                y[5],\n",
    "                (self.G*self.m2)/r**2 * (y[6]-y[4])/r,\n",
    "                y[7],\n",
    "                -(self.G*self.m1)/r**2 * (y[6]-y[4])/r,\n",
    "               ]\n",
    "    \n",
    "    def solve_ode(self, t_pts, x1_0, x1_dot_0, x2_0, x2_dot_0,\n",
    "                               y1_0, y1_dot_0, y2_0, y2_dot_0,\n",
    "                  method='RK23',\n",
    "                  abserr=1.0e-8, relerr=1.0e-8):\n",
    "        \"\"\"\n",
    "        Solve the ODE given initial conditions.\n",
    "        Use solve_ivp with the option of specifying the method.\n",
    "        Specify smaller abserr and relerr to get more precision.\n",
    "        \"\"\"\n",
    "        y = [x1_0, x1_dot_0, x2_0, x2_dot_0,\n",
    "             y1_0, y1_dot_0, y2_0, y2_dot_0]  \n",
    "        solution = solve_ivp(self.dy_dt, (t_pts[0], t_pts[-1]), \n",
    "                             y, t_eval=t_pts, method=method, \n",
    "                             atol=abserr, rtol=relerr)\n",
    "        \n",
    "        x1, x1_dot, x2, x2_dot, y1, y1_dot, y2, y2_dot = solution.y\n",
    "        return x1, x1_dot, x2, x2_dot, y1, y1_dot, y2, y2_dot"
   ]
  },
  {
   "cell_type": "code",
   "execution_count": 4,
   "id": "clinical-brooks",
   "metadata": {},
   "outputs": [],
   "source": [
    "def plot_y_vs_x(x, y, axis_labels=None, label=None, title=None, \n",
    "                color=None, linestyle=None, semilogy=False, loglog=False,\n",
    "                ax=None):\n",
    "    \"\"\"\n",
    "    Generic plotting function: return a figure axis with a plot of y vs. x,\n",
    "    with line color and style, title, axis labels, and line label\n",
    "    \"\"\"\n",
    "    if ax is None:        # if the axis object doesn't exist, make one\n",
    "        ax = plt.gca()\n",
    "\n",
    "    if (semilogy):\n",
    "        line, = ax.semilogy(x, y, label=label, \n",
    "                            color=color, linestyle=linestyle)\n",
    "    elif (loglog):\n",
    "        line, = ax.loglog(x, y, label=label, \n",
    "                          color=color, linestyle=linestyle)\n",
    "    else:\n",
    "        line, = ax.plot(x, y, label=label, \n",
    "                    color=color, linestyle=linestyle)\n",
    "\n",
    "    if label is not None:    # if a label if passed, show the legend\n",
    "        ax.legend()\n",
    "    if title is not None:    # set a title if one if passed\n",
    "        ax.set_title(title)\n",
    "    if axis_labels is not None:  # set x-axis and y-axis labels if passed  \n",
    "        ax.set_xlabel(axis_labels[0])\n",
    "        ax.set_ylabel(axis_labels[1])\n",
    "\n",
    "    return ax, line"
   ]
  },
  {
   "cell_type": "code",
   "execution_count": 5,
   "id": "coordinate-accident",
   "metadata": {},
   "outputs": [],
   "source": [
    "def start_stop_indices(t_pts, plot_start, plot_stop):\n",
    "    start_index = (np.fabs(t_pts-plot_start)).argmin()  # index in t_pts array \n",
    "    stop_index = (np.fabs(t_pts-plot_stop)).argmin()  # index in t_pts array \n",
    "    return start_index, stop_index"
   ]
  },
  {
   "cell_type": "code",
   "execution_count": 6,
   "id": "third-lesson",
   "metadata": {},
   "outputs": [],
   "source": [
    "# Common plotting time (generate the full time then use slices)\n",
    "t_start = 0.\n",
    "t_end = 10.\n",
    "delta_t = 0.001\n",
    "\n",
    "t_pts = np.arange(t_start, t_end+delta_t, delta_t)  \n",
    "\n",
    "G = 1.\n",
    "m1 = 1.\n",
    "m2 = 50.\n",
    "\n",
    "# Instantiate a pendulum \n",
    "tb1 = Two_Body(G=G, m1=m1, m2=m2)"
   ]
  },
  {
   "cell_type": "code",
   "execution_count": 7,
   "id": "ready-hayes",
   "metadata": {
    "scrolled": false
   },
   "outputs": [
    {
     "data": {
      "image/png": "[encoded data removed]",
      "text/plain": [
       "<Figure size 576x576 with 1 Axes>"
      ]
     },
     "metadata": {
      "needs_background": "light"
     },
     "output_type": "display_data"
    }
   ],
   "source": [
    "# both plots: same initial conditions\n",
    "x1_0 = 1.\n",
    "x1_dot_0 = -1.\n",
    "y1_0 = 1.\n",
    "y1_dot_0 = 1.\n",
    "\n",
    "x2_0 = -(m1/m2)*x1_0\n",
    "x2_dot_0 = -(m1/m2)*x1_dot_0\n",
    "y2_0 = -(m1/m2)*y1_0\n",
    "y2_dot_0 = -(m1/m2)*y1_dot_0\n",
    "\n",
    "x1, x1_dot, x2, x2_dot, y1, y1_dot, y2, y2_dot = tb1.solve_ode(t_pts, x1_0, x1_dot_0, x2_0, x2_dot_0, y1_0, y1_dot_0, y2_0, y2_dot_0)\n",
    "\n",
    "\n",
    "# start the plot!\n",
    "fig = plt.figure(figsize=(8,8))\n",
    "ax_a = fig.add_subplot(1,1,1)                  \n",
    "\n",
    "start, stop = start_stop_indices(t_pts, 0., 10.)    \n",
    "plot_y_vs_x(x1[start : stop], y1[start : stop], \n",
    "            axis_labels=(r'$x(t)$', r'$y(t)$'), \n",
    "            color='blue',\n",
    "            label=r'$m_1$', \n",
    "            ax=ax_a)\n",
    "plot_y_vs_x(x2[start : stop], y2[start : stop], \n",
    "            color='red',\n",
    "            label=r'$m_2$', \n",
    "            ax=ax_a)\n",
    "\n",
    "fig.tight_layout()\n",
    "fig.savefig('two_body_heavy.png', bbox_inches='tight')"
   ]
  },
  {
   "cell_type": "markdown",
   "id": "accepted-interval",
   "metadata": {},
   "source": [
    "As shown in the plot above, if one of the bodies is very heavy, the number of orbit reduces."
   ]
  },
  {
   "cell_type": "code",
   "execution_count": null,
   "id": "allied-wheat",
   "metadata": {},
   "outputs": [],
   "source": []
  }
 ],
 "metadata": {
  "kernelspec": {
   "display_name": "Python 3",
   "language": "python",
   "name": "python3"
  },
  "language_info": {
   "codemirror_mode": {
    "name": "ipython",
    "version": 3
   },
   "file_extension": ".py",
   "mimetype": "text/x-python",
   "name": "python",
   "nbconvert_exporter": "python",
   "pygments_lexer": "ipython3",
   "version": "3.9.2"
  }
 },
 "nbformat": 4,
 "nbformat_minor": 5
}
